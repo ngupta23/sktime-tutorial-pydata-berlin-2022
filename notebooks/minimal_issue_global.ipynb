{
 "cells": [
  {
   "cell_type": "code",
   "execution_count": 1,
   "id": "9f08fbc0-ab2e-4d82-a288-bf9bab638d44",
   "metadata": {},
   "outputs": [],
   "source": [
    "import warnings\n",
    "warnings.filterwarnings('ignore')"
   ]
  },
  {
   "cell_type": "code",
   "execution_count": 2,
   "id": "77e67e36-68aa-4840-a060-4495db0143fe",
   "metadata": {},
   "outputs": [],
   "source": [
    "import numpy as np\n",
    "import pandas as pd\n",
    "from sklearn.ensemble import RandomForestRegressor\n",
    "from sklearn.pipeline import make_pipeline\n",
    "\n",
    "from sktime.forecasting.compose import ForecastingPipeline, make_reduction\n",
    "from sktime.forecasting.model_selection import temporal_train_test_split\n",
    "from sktime.transformations.series.summarize import WindowSummarizer\n",
    "from sktime.transformations.series.date import DateTimeFeatures"
   ]
  },
  {
   "cell_type": "code",
   "execution_count": 3,
   "id": "c32a4488-7790-45b2-ae3b-539bd237cb91",
   "metadata": {},
   "outputs": [],
   "source": [
    "data = pd.read_csv(\"global_fc/train.csv\")\n",
    "data['date'] = pd.to_datetime(data['date'])"
   ]
  },
  {
   "cell_type": "code",
   "execution_count": 4,
   "id": "4e806356-0b5c-4418-a249-80ba74ea2748",
   "metadata": {},
   "outputs": [],
   "source": [
    "stores = [5, 10]\n",
    "items = [40, 50]"
   ]
  },
  {
   "cell_type": "code",
   "execution_count": 5,
   "id": "ec853a46-5f97-4fbb-a74f-f5c38ac2d066",
   "metadata": {},
   "outputs": [],
   "source": [
    "#### Prepare data for Global Modeling ----\n",
    "\n",
    "subset = data.query(\"store in @stores and item in @items\")\n",
    "subset['store_str'] = ['store_' + str(i) for i in subset['store']]\n",
    "subset['item_str'] = ['item_' + str(i) for i in subset['item']]\n",
    "subset['time_series'] = subset[['store_str', 'item_str']].apply(lambda x: '_'.join(x), axis=1)\n",
    "subset.drop(columns=[\"store_str\", \"item_str\"], inplace=True)\n",
    "\n",
    "# subset.head()\n",
    "\n",
    "y_global = subset[[\"time_series\", \"date\", \"sales\"]]\n",
    "X_global = subset.drop(columns=[\"sales\"])\n",
    "\n",
    "y_global.set_index([\"time_series\", \"date\"], inplace=True)\n",
    "X_global.set_index([\"time_series\", \"date\"], inplace=True)\n",
    "\n",
    "# y_global.info(), X_global.info()\n",
    "# display(y_global.head()), display(X_global.head())"
   ]
  },
  {
   "cell_type": "code",
   "execution_count": 6,
   "id": "da32a14b-1fef-49c2-8704-6075854d62db",
   "metadata": {},
   "outputs": [],
   "source": [
    "y_train_global, y_test_global, X_train_global, X_test_global = temporal_train_test_split(y_global, X_global)\n",
    "# display(y_train_global.head(5), X_train_global.head(5))\n",
    "# display(y_test_global.head(5), X_test_global.head(5))"
   ]
  },
  {
   "cell_type": "code",
   "execution_count": 7,
   "id": "63c4ee90-b368-437f-a876-c532bc627d05",
   "metadata": {},
   "outputs": [],
   "source": [
    "FH = np.arange(1, len(y_test_global.loc[\"store_5_item_40\"])+1)\n",
    "# FH "
   ]
  },
  {
   "cell_type": "code",
   "execution_count": 8,
   "id": "d92fe9e9-40bf-4ae6-8205-6377d4aaed6b",
   "metadata": {},
   "outputs": [],
   "source": [
    "regressor = make_pipeline(\n",
    "    RandomForestRegressor(random_state=1),\n",
    ")\n",
    "\n",
    "def count_gt130(x):\n",
    "    \"\"\"Count how many observations lie above threshold.\"\"\"\n",
    "    return np.sum((x > 700)[::-1])\n",
    "\n",
    "\n",
    "kwargs = {\n",
    "    \"lag_feature\": {\n",
    "        \"lag\": [1],\n",
    "        \"mean\": [[1, 3], [3, 6]],\n",
    "        \"std\": [[1, 4]],\n",
    "        count_gt130: [[2, 3]],\n",
    "    }\n",
    "}\n",
    "\n",
    "\n",
    "steps=[\n",
    "        (\"daily_season\", DateTimeFeatures(ts_freq=\"D\")),  \n",
    "        (\"daily_season2\", DateTimeFeatures(manual_selection=[\"week_of_month\", \"day_of_quarter\"])),\n",
    "]  \n",
    "\n",
    "forecaster_global = make_reduction(\n",
    "    regressor,\n",
    "    scitype=\"tabular-regressor\",\n",
    "    transformers=[WindowSummarizer(**kwargs, n_jobs=1, truncate=\"bfill\")],\n",
    "    window_length=None,\n",
    "    strategy=\"recursive\",\n",
    ")\n",
    "\n",
    "\n",
    "# Version 2: Global Forecasting\n",
    "pipe_global = ForecastingPipeline(steps= steps + [(\"forecaster\", forecaster_global)])"
   ]
  },
  {
   "cell_type": "code",
   "execution_count": 9,
   "id": "ceb86ba0-7a5e-4382-a4df-34e75410b99f",
   "metadata": {},
   "outputs": [],
   "source": [
    "_ = pipe_global.fit(y_train_global, X_train_global, fh=FH)"
   ]
  },
  {
   "cell_type": "code",
   "execution_count": 10,
   "id": "386aa904-0528-437b-8e65-346146bf0fac",
   "metadata": {},
   "outputs": [
    {
     "ename": "ValueError",
     "evalue": "No `freq` information available",
     "output_type": "error",
     "traceback": [
      "\u001b[1;31m---------------------------------------------------------------------------\u001b[0m",
      "\u001b[1;31mValueError\u001b[0m                                Traceback (most recent call last)",
      "Input \u001b[1;32mIn [10]\u001b[0m, in \u001b[0;36m<cell line: 2>\u001b[1;34m()\u001b[0m\n\u001b[0;32m      1\u001b[0m \u001b[38;5;66;03m# TODO (check): Does not recognize freq in X (so how did train work?)\u001b[39;00m\n\u001b[1;32m----> 2\u001b[0m y_pred_global \u001b[38;5;241m=\u001b[39m \u001b[43mpipe_global\u001b[49m\u001b[38;5;241;43m.\u001b[39;49m\u001b[43mpredict\u001b[49m\u001b[43m(\u001b[49m\u001b[43mX\u001b[49m\u001b[38;5;241;43m=\u001b[39;49m\u001b[43mX_test_global\u001b[49m\u001b[43m)\u001b[49m\n",
      "File \u001b[1;32m~\\.conda\\envs\\sktime-pydata\\lib\\site-packages\\sktime\\forecasting\\base\\_base.py:320\u001b[0m, in \u001b[0;36mBaseForecaster.predict\u001b[1;34m(self, fh, X)\u001b[0m\n\u001b[0;32m    318\u001b[0m \u001b[38;5;66;03m# we call the ordinary _predict if no looping/vectorization needed\u001b[39;00m\n\u001b[0;32m    319\u001b[0m \u001b[38;5;28;01mif\u001b[39;00m \u001b[38;5;129;01mnot\u001b[39;00m \u001b[38;5;28mself\u001b[39m\u001b[38;5;241m.\u001b[39m_is_vectorized:\n\u001b[1;32m--> 320\u001b[0m     y_pred \u001b[38;5;241m=\u001b[39m \u001b[38;5;28;43mself\u001b[39;49m\u001b[38;5;241;43m.\u001b[39;49m\u001b[43m_predict\u001b[49m\u001b[43m(\u001b[49m\u001b[43mfh\u001b[49m\u001b[38;5;241;43m=\u001b[39;49m\u001b[43mfh\u001b[49m\u001b[43m,\u001b[49m\u001b[43m \u001b[49m\u001b[43mX\u001b[49m\u001b[38;5;241;43m=\u001b[39;49m\u001b[43mX_inner\u001b[49m\u001b[43m)\u001b[49m\n\u001b[0;32m    321\u001b[0m \u001b[38;5;28;01melse\u001b[39;00m:\n\u001b[0;32m    322\u001b[0m     \u001b[38;5;66;03m# otherwise we call the vectorized version of predict\u001b[39;00m\n\u001b[0;32m    323\u001b[0m     y_pred \u001b[38;5;241m=\u001b[39m \u001b[38;5;28mself\u001b[39m\u001b[38;5;241m.\u001b[39m_vectorize(\u001b[38;5;124m\"\u001b[39m\u001b[38;5;124mpredict\u001b[39m\u001b[38;5;124m\"\u001b[39m, X\u001b[38;5;241m=\u001b[39mX_inner, fh\u001b[38;5;241m=\u001b[39mfh)\n",
      "File \u001b[1;32m~\\.conda\\envs\\sktime-pydata\\lib\\site-packages\\sktime\\forecasting\\compose\\_pipeline.py:358\u001b[0m, in \u001b[0;36mForecastingPipeline._predict\u001b[1;34m(self, fh, X)\u001b[0m\n\u001b[0;32m    343\u001b[0m \u001b[38;5;124;03m\"\"\"Forecast time series at future horizon.\u001b[39;00m\n\u001b[0;32m    344\u001b[0m \n\u001b[0;32m    345\u001b[0m \u001b[38;5;124;03mParameters\u001b[39;00m\n\u001b[1;32m   (...)\u001b[0m\n\u001b[0;32m    355\u001b[0m \u001b[38;5;124;03m    Point predictions\u001b[39;00m\n\u001b[0;32m    356\u001b[0m \u001b[38;5;124;03m\"\"\"\u001b[39;00m\n\u001b[0;32m    357\u001b[0m X \u001b[38;5;241m=\u001b[39m \u001b[38;5;28mself\u001b[39m\u001b[38;5;241m.\u001b[39m_transform(X\u001b[38;5;241m=\u001b[39mX)\n\u001b[1;32m--> 358\u001b[0m \u001b[38;5;28;01mreturn\u001b[39;00m \u001b[38;5;28;43mself\u001b[39;49m\u001b[38;5;241;43m.\u001b[39;49m\u001b[43mforecaster_\u001b[49m\u001b[38;5;241;43m.\u001b[39;49m\u001b[43mpredict\u001b[49m\u001b[43m(\u001b[49m\u001b[43mfh\u001b[49m\u001b[43m,\u001b[49m\u001b[43m \u001b[49m\u001b[43mX\u001b[49m\u001b[43m)\u001b[49m\n",
      "File \u001b[1;32m~\\.conda\\envs\\sktime-pydata\\lib\\site-packages\\sktime\\forecasting\\base\\_base.py:320\u001b[0m, in \u001b[0;36mBaseForecaster.predict\u001b[1;34m(self, fh, X)\u001b[0m\n\u001b[0;32m    318\u001b[0m \u001b[38;5;66;03m# we call the ordinary _predict if no looping/vectorization needed\u001b[39;00m\n\u001b[0;32m    319\u001b[0m \u001b[38;5;28;01mif\u001b[39;00m \u001b[38;5;129;01mnot\u001b[39;00m \u001b[38;5;28mself\u001b[39m\u001b[38;5;241m.\u001b[39m_is_vectorized:\n\u001b[1;32m--> 320\u001b[0m     y_pred \u001b[38;5;241m=\u001b[39m \u001b[38;5;28;43mself\u001b[39;49m\u001b[38;5;241;43m.\u001b[39;49m\u001b[43m_predict\u001b[49m\u001b[43m(\u001b[49m\u001b[43mfh\u001b[49m\u001b[38;5;241;43m=\u001b[39;49m\u001b[43mfh\u001b[49m\u001b[43m,\u001b[49m\u001b[43m \u001b[49m\u001b[43mX\u001b[49m\u001b[38;5;241;43m=\u001b[39;49m\u001b[43mX_inner\u001b[49m\u001b[43m)\u001b[49m\n\u001b[0;32m    321\u001b[0m \u001b[38;5;28;01melse\u001b[39;00m:\n\u001b[0;32m    322\u001b[0m     \u001b[38;5;66;03m# otherwise we call the vectorized version of predict\u001b[39;00m\n\u001b[0;32m    323\u001b[0m     y_pred \u001b[38;5;241m=\u001b[39m \u001b[38;5;28mself\u001b[39m\u001b[38;5;241m.\u001b[39m_vectorize(\u001b[38;5;124m\"\u001b[39m\u001b[38;5;124mpredict\u001b[39m\u001b[38;5;124m\"\u001b[39m, X\u001b[38;5;241m=\u001b[39mX_inner, fh\u001b[38;5;241m=\u001b[39mfh)\n",
      "File \u001b[1;32m~\\.conda\\envs\\sktime-pydata\\lib\\site-packages\\sktime\\forecasting\\base\\_sktime.py:62\u001b[0m, in \u001b[0;36m_BaseWindowForecaster._predict\u001b[1;34m(self, fh, X)\u001b[0m\n\u001b[0;32m     60\u001b[0m \u001b[38;5;66;03m# all values are out-of-sample\u001b[39;00m\n\u001b[0;32m     61\u001b[0m \u001b[38;5;28;01mif\u001b[39;00m fh\u001b[38;5;241m.\u001b[39mis_all_out_of_sample(\u001b[38;5;28mself\u001b[39m\u001b[38;5;241m.\u001b[39mcutoff):\n\u001b[1;32m---> 62\u001b[0m     \u001b[38;5;28;01mreturn\u001b[39;00m \u001b[38;5;28mself\u001b[39m\u001b[38;5;241m.\u001b[39m_predict_fixed_cutoff(\n\u001b[0;32m     63\u001b[0m         fh\u001b[38;5;241m.\u001b[39mto_out_of_sample(\u001b[38;5;28mself\u001b[39m\u001b[38;5;241m.\u001b[39mcutoff), \u001b[38;5;241m*\u001b[39m\u001b[38;5;241m*\u001b[39mkwargs\n\u001b[0;32m     64\u001b[0m     )\n\u001b[0;32m     66\u001b[0m \u001b[38;5;66;03m# all values are in-sample\u001b[39;00m\n\u001b[0;32m     67\u001b[0m \u001b[38;5;28;01melif\u001b[39;00m fh\u001b[38;5;241m.\u001b[39mis_all_in_sample(\u001b[38;5;28mself\u001b[39m\u001b[38;5;241m.\u001b[39mcutoff):\n",
      "File \u001b[1;32m~\\.conda\\envs\\sktime-pydata\\lib\\site-packages\\sktime\\forecasting\\base\\_sktime.py:96\u001b[0m, in \u001b[0;36m_BaseWindowForecaster._predict_fixed_cutoff\u001b[1;34m(self, fh, X, return_pred_int, alpha)\u001b[0m\n\u001b[0;32m     81\u001b[0m \u001b[38;5;124;03m\"\"\"Make single-step or multi-step fixed cutoff predictions.\u001b[39;00m\n\u001b[0;32m     82\u001b[0m \n\u001b[0;32m     83\u001b[0m \u001b[38;5;124;03mParameters\u001b[39;00m\n\u001b[1;32m   (...)\u001b[0m\n\u001b[0;32m     93\u001b[0m \u001b[38;5;124;03my_pred = pd.Series or pd.DataFrame\u001b[39;00m\n\u001b[0;32m     94\u001b[0m \u001b[38;5;124;03m\"\"\"\u001b[39;00m\n\u001b[0;32m     95\u001b[0m \u001b[38;5;66;03m# assert all(fh > 0)\u001b[39;00m\n\u001b[1;32m---> 96\u001b[0m y_pred \u001b[38;5;241m=\u001b[39m \u001b[38;5;28;43mself\u001b[39;49m\u001b[38;5;241;43m.\u001b[39;49m\u001b[43m_predict_last_window\u001b[49m\u001b[43m(\u001b[49m\n\u001b[0;32m     97\u001b[0m \u001b[43m    \u001b[49m\u001b[43mfh\u001b[49m\u001b[43m,\u001b[49m\u001b[43m \u001b[49m\u001b[43mX\u001b[49m\u001b[43m,\u001b[49m\u001b[43m \u001b[49m\u001b[43mreturn_pred_int\u001b[49m\u001b[38;5;241;43m=\u001b[39;49m\u001b[43mreturn_pred_int\u001b[49m\u001b[43m,\u001b[49m\u001b[43m \u001b[49m\u001b[43malpha\u001b[49m\u001b[38;5;241;43m=\u001b[39;49m\u001b[43malpha\u001b[49m\n\u001b[0;32m     98\u001b[0m \u001b[43m\u001b[49m\u001b[43m)\u001b[49m\n\u001b[0;32m     99\u001b[0m \u001b[38;5;28;01mif\u001b[39;00m \u001b[38;5;28misinstance\u001b[39m(y_pred, pd\u001b[38;5;241m.\u001b[39mSeries) \u001b[38;5;129;01mor\u001b[39;00m \u001b[38;5;28misinstance\u001b[39m(y_pred, pd\u001b[38;5;241m.\u001b[39mDataFrame):\n\u001b[0;32m    100\u001b[0m     \u001b[38;5;28;01mreturn\u001b[39;00m y_pred\n",
      "File \u001b[1;32m~\\.conda\\envs\\sktime-pydata\\lib\\site-packages\\sktime\\forecasting\\compose\\_reduce.py:525\u001b[0m, in \u001b[0;36m_RecursiveReducer._predict_last_window\u001b[1;34m(self, fh, X, return_pred_int, alpha)\u001b[0m\n\u001b[0;32m    523\u001b[0m \u001b[38;5;66;03m# Get last window of available data.\u001b[39;00m\n\u001b[0;32m    524\u001b[0m \u001b[38;5;28;01mif\u001b[39;00m \u001b[38;5;28mself\u001b[39m\u001b[38;5;241m.\u001b[39mtransformers_ \u001b[38;5;129;01mis\u001b[39;00m \u001b[38;5;129;01mnot\u001b[39;00m \u001b[38;5;28;01mNone\u001b[39;00m:\n\u001b[1;32m--> 525\u001b[0m     y_last, X_last \u001b[38;5;241m=\u001b[39m \u001b[38;5;28;43mself\u001b[39;49m\u001b[38;5;241;43m.\u001b[39;49m\u001b[43m_get_shifted_window\u001b[49m\u001b[43m(\u001b[49m\u001b[43m)\u001b[49m\n\u001b[0;32m    526\u001b[0m \u001b[38;5;28;01melse\u001b[39;00m:\n\u001b[0;32m    527\u001b[0m     y_last, X_last \u001b[38;5;241m=\u001b[39m \u001b[38;5;28mself\u001b[39m\u001b[38;5;241m.\u001b[39m_get_last_window()\n",
      "File \u001b[1;32m~\\.conda\\envs\\sktime-pydata\\lib\\site-packages\\sktime\\forecasting\\compose\\_reduce.py:478\u001b[0m, in \u001b[0;36m_RecursiveReducer._get_shifted_window\u001b[1;34m(self, shift, y_update, X_update)\u001b[0m\n\u001b[0;32m    476\u001b[0m \u001b[38;5;124;03m\"\"\"Select shifted window.\"\"\"\u001b[39;00m\n\u001b[0;32m    477\u001b[0m \u001b[38;5;66;03m# Get the start and end points of the last window.\u001b[39;00m\n\u001b[1;32m--> 478\u001b[0m cutoff \u001b[38;5;241m=\u001b[39m \u001b[43m_shift\u001b[49m\u001b[43m(\u001b[49m\u001b[38;5;28;43mself\u001b[39;49m\u001b[38;5;241;43m.\u001b[39;49m\u001b[43mcutoff\u001b[49m\u001b[43m,\u001b[49m\u001b[43m \u001b[49m\u001b[43mby\u001b[49m\u001b[38;5;241;43m=\u001b[39;49m\u001b[43mshift\u001b[49m\u001b[43m)\u001b[49m\n\u001b[0;32m    479\u001b[0m start \u001b[38;5;241m=\u001b[39m _shift(cutoff, by\u001b[38;5;241m=\u001b[39m\u001b[38;5;241m-\u001b[39m\u001b[38;5;28mself\u001b[39m\u001b[38;5;241m.\u001b[39mwindow_length_ \u001b[38;5;241m+\u001b[39m \u001b[38;5;241m1\u001b[39m)\n\u001b[0;32m    481\u001b[0m \u001b[38;5;28;01mif\u001b[39;00m \u001b[38;5;28mself\u001b[39m\u001b[38;5;241m.\u001b[39mtransformers_ \u001b[38;5;129;01mis\u001b[39;00m \u001b[38;5;129;01mnot\u001b[39;00m \u001b[38;5;28;01mNone\u001b[39;00m:\n\u001b[0;32m    482\u001b[0m     \u001b[38;5;66;03m# Get the last window of the endogenous variable.\u001b[39;00m\n\u001b[0;32m    483\u001b[0m     \u001b[38;5;66;03m# If X is given, also get the last window of the exogenous variables.\u001b[39;00m\n",
      "File \u001b[1;32m~\\.conda\\envs\\sktime-pydata\\lib\\site-packages\\sktime\\utils\\datetime.py:106\u001b[0m, in \u001b[0;36m_shift\u001b[1;34m(x, by)\u001b[0m\n\u001b[0;32m    104\u001b[0m \u001b[38;5;28;01mif\u001b[39;00m \u001b[38;5;28misinstance\u001b[39m(x, pd\u001b[38;5;241m.\u001b[39mTimestamp):\n\u001b[0;32m    105\u001b[0m     \u001b[38;5;28;01mif\u001b[39;00m \u001b[38;5;129;01mnot\u001b[39;00m \u001b[38;5;28mhasattr\u001b[39m(x, \u001b[38;5;124m\"\u001b[39m\u001b[38;5;124mfreq\u001b[39m\u001b[38;5;124m\"\u001b[39m) \u001b[38;5;129;01mor\u001b[39;00m x\u001b[38;5;241m.\u001b[39mfreq \u001b[38;5;129;01mis\u001b[39;00m \u001b[38;5;28;01mNone\u001b[39;00m:\n\u001b[1;32m--> 106\u001b[0m         \u001b[38;5;28;01mraise\u001b[39;00m \u001b[38;5;167;01mValueError\u001b[39;00m(\u001b[38;5;124m\"\u001b[39m\u001b[38;5;124mNo `freq` information available\u001b[39m\u001b[38;5;124m\"\u001b[39m)\n\u001b[0;32m    107\u001b[0m     by \u001b[38;5;241m*\u001b[39m\u001b[38;5;241m=\u001b[39m x\u001b[38;5;241m.\u001b[39mfreq\n\u001b[0;32m    108\u001b[0m \u001b[38;5;28;01mreturn\u001b[39;00m x \u001b[38;5;241m+\u001b[39m by\n",
      "\u001b[1;31mValueError\u001b[0m: No `freq` information available"
     ]
    }
   ],
   "source": [
    "# TODO (check): Does not recognize freq in X (so how did train work?)\n",
    "y_pred_global = pipe_global.predict(X=X_test_global)"
   ]
  },
  {
   "cell_type": "code",
   "execution_count": null,
   "id": "ea7fd08b-744f-4d7e-bd3a-c46494a44c0b",
   "metadata": {},
   "outputs": [],
   "source": []
  }
 ],
 "metadata": {
  "kernelspec": {
   "display_name": "sktime-pydata",
   "language": "python",
   "name": "sktime-pydata"
  },
  "language_info": {
   "codemirror_mode": {
    "name": "ipython",
    "version": 3
   },
   "file_extension": ".py",
   "mimetype": "text/x-python",
   "name": "python",
   "nbconvert_exporter": "python",
   "pygments_lexer": "ipython3",
   "version": "3.9.12"
  }
 },
 "nbformat": 4,
 "nbformat_minor": 5
}
