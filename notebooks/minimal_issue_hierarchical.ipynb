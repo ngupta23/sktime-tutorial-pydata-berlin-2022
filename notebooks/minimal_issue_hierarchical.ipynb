{
 "cells": [
  {
   "cell_type": "code",
   "execution_count": 1,
   "id": "3e5b7824-d527-4744-a46a-51bc1c86c9a8",
   "metadata": {},
   "outputs": [],
   "source": [
    "import warnings\n",
    "warnings.filterwarnings('ignore')"
   ]
  },
  {
   "cell_type": "code",
   "execution_count": 2,
   "id": "b438a2db-1617-4c5a-ab48-6d0f3834def4",
   "metadata": {},
   "outputs": [],
   "source": [
    "import numpy as np\n",
    "import pandas as pd\n",
    "\n",
    "from sktime.forecasting.compose import ForecastingPipeline, make_reduction\n",
    "from sktime.forecasting.model_selection import temporal_train_test_split\n",
    "from sktime.transformations.series.summarize import WindowSummarizer\n",
    "from sktime.transformations.series.date import DateTimeFeatures\n",
    "\n",
    "from sktime.forecasting.arima import ARIMA\n",
    "from sktime.forecasting.naive import NaiveForecaster\n",
    "\n",
    "from sktime.transformations.hierarchical.reconcile import Reconciler\n",
    "from sktime.transformations.hierarchical.aggregate import Aggregator"
   ]
  },
  {
   "cell_type": "code",
   "execution_count": 3,
   "id": "67794a47-e517-4876-b6a0-ff423127cc02",
   "metadata": {},
   "outputs": [],
   "source": [
    "data = pd.read_csv(\"global_fc/train.csv\")\n",
    "data['date'] = pd.to_datetime(data['date'])"
   ]
  },
  {
   "cell_type": "code",
   "execution_count": 4,
   "id": "5d77243a-aaaf-4da6-a4dc-ab3fd17a46f4",
   "metadata": {},
   "outputs": [],
   "source": [
    "stores = [5, 10]\n",
    "items = [40, 50]"
   ]
  },
  {
   "cell_type": "code",
   "execution_count": 5,
   "id": "1c6e9161-6f5b-43ea-85df-705f54daa2e1",
   "metadata": {},
   "outputs": [],
   "source": [
    "#### Prepare data for Hierarchical Modeling ----\n",
    "subset = data.query(\"store in @stores and item in @items\")\n",
    "\n",
    "y_hier = subset[[\"store\", \"item\", \"date\", \"sales\"]]\n",
    "X_hier = subset.drop(columns=[\"sales\"])\n",
    "\n",
    "y_hier.set_index([\"store\", \"item\", \"date\"], inplace=True)\n",
    "X_hier.set_index([\"store\", \"item\", \"date\"], inplace=True)\n",
    "\n",
    "# y_hier.info(), X_hier.info()\n",
    "# display(y_hier.head()), display(X_hier.head())"
   ]
  },
  {
   "cell_type": "code",
   "execution_count": 6,
   "id": "a19a50ea-39af-487b-af42-49962b4074b4",
   "metadata": {},
   "outputs": [],
   "source": [
    "y_train_hier, y_test_hier, X_train_hier, X_test_hier = temporal_train_test_split(y_hier, X_hier)\n",
    "# display(y_train_hier.head(5), X_train_hier.head(5))\n",
    "# display(y_test_hier.head(5), X_test_hier.head(5))"
   ]
  },
  {
   "cell_type": "code",
   "execution_count": 7,
   "id": "91ff8407-9404-4ffa-94b8-4d8c5af2615a",
   "metadata": {},
   "outputs": [],
   "source": [
    "FH = np.arange(1, len(y_test_hier.loc[5, 40])+1)\n",
    "# FH "
   ]
  },
  {
   "cell_type": "code",
   "execution_count": 8,
   "id": "9699540f-bf0e-40bc-8f18-1dd7d21e5d11",
   "metadata": {},
   "outputs": [],
   "source": [
    "steps=[\n",
    "        (\"daily_season\", DateTimeFeatures(ts_freq=\"D\")),  \n",
    "        (\"daily_season2\", DateTimeFeatures(manual_selection=[\"week_of_month\", \"day_of_quarter\"])),\n",
    "]  \n",
    "\n",
    "forecaster_hier = NaiveForecaster()\n",
    "\n",
    "# Version 1A: Local Vectorized (Hierarchical) Forecasts (without reconciliation)\n",
    "pipe_hier_norecon = ForecastingPipeline(steps= steps + [(\"forecaster\", forecaster_hier)])\n",
    "\n",
    "# Version 1B: Local Vectorized (Hierarchical) Forecasts (with reconciliation)\n",
    "pipe_hier_recon = Aggregator() * pipe_hier_norecon * Reconciler(method=\"ols\")"
   ]
  },
  {
   "cell_type": "code",
   "execution_count": 9,
   "id": "57acb5e9-647c-4fe9-9c98-929b6dfa2a75",
   "metadata": {},
   "outputs": [],
   "source": [
    "# Version 1A: Local Vectorized (Hierarchical) Forecasts (without reconciliation)\n",
    "_ = pipe_hier_norecon.fit(y_train_hier, X_train_hier, fh=FH)"
   ]
  },
  {
   "cell_type": "code",
   "execution_count": 10,
   "id": "5e4c9380-21b9-4a51-9e36-0ea2804dc34a",
   "metadata": {},
   "outputs": [
    {
     "ename": "ValueError",
     "evalue": "(time) indices of series 0 are not contained in index of series 0, extra indices are: MultiIndex([(        5, '__total', '2013-01-01'),\n            (        5, '__total', '2013-01-02'),\n            (        5, '__total', '2013-01-03'),\n            (        5, '__total', '2013-01-04'),\n            (        5, '__total', '2013-01-05'),\n            (        5, '__total', '2013-01-06'),\n            (        5, '__total', '2013-01-07'),\n            (        5, '__total', '2013-01-08'),\n            (        5, '__total', '2013-01-09'),\n            (        5, '__total', '2013-01-10'),\n            ...\n            ('__total', '__total', '2016-09-21'),\n            ('__total', '__total', '2016-09-22'),\n            ('__total', '__total', '2016-09-23'),\n            ('__total', '__total', '2016-09-24'),\n            ('__total', '__total', '2016-09-25'),\n            ('__total', '__total', '2016-09-26'),\n            ('__total', '__total', '2016-09-27'),\n            ('__total', '__total', '2016-09-28'),\n            ('__total', '__total', '2016-09-29'),\n            ('__total', '__total', '2016-09-30')],\n           names=['store', 'item', 'date'], length=4107)",
     "output_type": "error",
     "traceback": [
      "\u001b[1;31m---------------------------------------------------------------------------\u001b[0m",
      "\u001b[1;31mValueError\u001b[0m                                Traceback (most recent call last)",
      "Input \u001b[1;32mIn [10]\u001b[0m, in \u001b[0;36m<cell line: 4>\u001b[1;34m()\u001b[0m\n\u001b[0;32m      1\u001b[0m \u001b[38;5;66;03m# Version 1B: Local Vectorized (Hierarchical) Forecasts (with reconciliation)\u001b[39;00m\n\u001b[0;32m      2\u001b[0m \u001b[38;5;66;03m# Does not work with X_train (is it because of empty X dataframe)\u001b[39;00m\n\u001b[0;32m      3\u001b[0m \u001b[38;5;66;03m# If 1A works with X_train, shouldn't 1B also work?\u001b[39;00m\n\u001b[1;32m----> 4\u001b[0m _ \u001b[38;5;241m=\u001b[39m \u001b[43mpipe_hier_recon\u001b[49m\u001b[38;5;241;43m.\u001b[39;49m\u001b[43mfit\u001b[49m\u001b[43m(\u001b[49m\u001b[43my_train_hier\u001b[49m\u001b[43m,\u001b[49m\u001b[43m \u001b[49m\u001b[43mX_train_hier\u001b[49m\u001b[43m,\u001b[49m\u001b[43m \u001b[49m\u001b[43mfh\u001b[49m\u001b[38;5;241;43m=\u001b[39;49m\u001b[43mFH\u001b[49m\u001b[43m)\u001b[49m\n",
      "File \u001b[1;32m~\\.conda\\envs\\sktime-pydata\\lib\\site-packages\\sktime\\forecasting\\base\\_base.py:265\u001b[0m, in \u001b[0;36mBaseForecaster.fit\u001b[1;34m(self, y, X, fh)\u001b[0m\n\u001b[0;32m    263\u001b[0m \u001b[38;5;66;03m# we call the ordinary _fit if no looping/vectorization needed\u001b[39;00m\n\u001b[0;32m    264\u001b[0m \u001b[38;5;28;01mif\u001b[39;00m \u001b[38;5;129;01mnot\u001b[39;00m vectorization_needed:\n\u001b[1;32m--> 265\u001b[0m     \u001b[38;5;28;43mself\u001b[39;49m\u001b[38;5;241;43m.\u001b[39;49m\u001b[43m_fit\u001b[49m\u001b[43m(\u001b[49m\u001b[43my\u001b[49m\u001b[38;5;241;43m=\u001b[39;49m\u001b[43my_inner\u001b[49m\u001b[43m,\u001b[49m\u001b[43m \u001b[49m\u001b[43mX\u001b[49m\u001b[38;5;241;43m=\u001b[39;49m\u001b[43mX_inner\u001b[49m\u001b[43m,\u001b[49m\u001b[43m \u001b[49m\u001b[43mfh\u001b[49m\u001b[38;5;241;43m=\u001b[39;49m\u001b[43mfh\u001b[49m\u001b[43m)\u001b[49m\n\u001b[0;32m    266\u001b[0m \u001b[38;5;28;01melse\u001b[39;00m:\n\u001b[0;32m    267\u001b[0m     \u001b[38;5;66;03m# otherwise we call the vectorized version of fit\u001b[39;00m\n\u001b[0;32m    268\u001b[0m     \u001b[38;5;28mself\u001b[39m\u001b[38;5;241m.\u001b[39m_vectorize(\u001b[38;5;124m\"\u001b[39m\u001b[38;5;124mfit\u001b[39m\u001b[38;5;124m\"\u001b[39m, y\u001b[38;5;241m=\u001b[39my_inner, X\u001b[38;5;241m=\u001b[39mX_inner, fh\u001b[38;5;241m=\u001b[39mfh)\n",
      "File \u001b[1;32m~\\.conda\\envs\\sktime-pydata\\lib\\site-packages\\sktime\\forecasting\\compose\\_pipeline.py:824\u001b[0m, in \u001b[0;36mTransformedTargetForecaster._fit\u001b[1;34m(self, y, X, fh)\u001b[0m\n\u001b[0;32m    822\u001b[0m \u001b[38;5;66;03m# fit forecaster\u001b[39;00m\n\u001b[0;32m    823\u001b[0m f \u001b[38;5;241m=\u001b[39m \u001b[38;5;28mself\u001b[39m\u001b[38;5;241m.\u001b[39mforecaster_\n\u001b[1;32m--> 824\u001b[0m \u001b[43mf\u001b[49m\u001b[38;5;241;43m.\u001b[39;49m\u001b[43mfit\u001b[49m\u001b[43m(\u001b[49m\u001b[43my\u001b[49m\u001b[38;5;241;43m=\u001b[39;49m\u001b[43myt\u001b[49m\u001b[43m,\u001b[49m\u001b[43m \u001b[49m\u001b[43mX\u001b[49m\u001b[38;5;241;43m=\u001b[39;49m\u001b[43mX\u001b[49m\u001b[43m,\u001b[49m\u001b[43m \u001b[49m\u001b[43mfh\u001b[49m\u001b[38;5;241;43m=\u001b[39;49m\u001b[43mfh\u001b[49m\u001b[43m)\u001b[49m\n\u001b[0;32m    826\u001b[0m \u001b[38;5;66;03m# transform post\u001b[39;00m\n\u001b[0;32m    827\u001b[0m \u001b[38;5;28;01mfor\u001b[39;00m _, t \u001b[38;5;129;01min\u001b[39;00m \u001b[38;5;28mself\u001b[39m\u001b[38;5;241m.\u001b[39mtransformers_post_:\n",
      "File \u001b[1;32m~\\.conda\\envs\\sktime-pydata\\lib\\site-packages\\sktime\\forecasting\\base\\_base.py:253\u001b[0m, in \u001b[0;36mBaseForecaster.fit\u001b[1;34m(self, y, X, fh)\u001b[0m\n\u001b[0;32m    250\u001b[0m fh \u001b[38;5;241m=\u001b[39m \u001b[38;5;28mself\u001b[39m\u001b[38;5;241m.\u001b[39m_check_fh(fh)\n\u001b[0;32m    252\u001b[0m \u001b[38;5;66;03m# check and convert X/y\u001b[39;00m\n\u001b[1;32m--> 253\u001b[0m X_inner, y_inner \u001b[38;5;241m=\u001b[39m \u001b[38;5;28;43mself\u001b[39;49m\u001b[38;5;241;43m.\u001b[39;49m\u001b[43m_check_X_y\u001b[49m\u001b[43m(\u001b[49m\u001b[43mX\u001b[49m\u001b[38;5;241;43m=\u001b[39;49m\u001b[43mX\u001b[49m\u001b[43m,\u001b[49m\u001b[43m \u001b[49m\u001b[43my\u001b[49m\u001b[38;5;241;43m=\u001b[39;49m\u001b[43my\u001b[49m\u001b[43m)\u001b[49m\n\u001b[0;32m    255\u001b[0m \u001b[38;5;66;03m# set internal X/y to the new X/y\u001b[39;00m\n\u001b[0;32m    256\u001b[0m \u001b[38;5;66;03m# this also updates cutoff from y\u001b[39;00m\n\u001b[0;32m    257\u001b[0m \u001b[38;5;28mself\u001b[39m\u001b[38;5;241m.\u001b[39m_update_y_X(y_inner, X_inner)\n",
      "File \u001b[1;32m~\\.conda\\envs\\sktime-pydata\\lib\\site-packages\\sktime\\forecasting\\base\\_base.py:1206\u001b[0m, in \u001b[0;36mBaseForecaster._check_X_y\u001b[1;34m(self, X, y)\u001b[0m\n\u001b[0;32m   1204\u001b[0m \u001b[38;5;28;01mif\u001b[39;00m X \u001b[38;5;129;01mis\u001b[39;00m \u001b[38;5;129;01mnot\u001b[39;00m \u001b[38;5;28;01mNone\u001b[39;00m \u001b[38;5;129;01mand\u001b[39;00m y \u001b[38;5;129;01mis\u001b[39;00m \u001b[38;5;129;01mnot\u001b[39;00m \u001b[38;5;28;01mNone\u001b[39;00m:\n\u001b[0;32m   1205\u001b[0m     \u001b[38;5;28;01mif\u001b[39;00m \u001b[38;5;28mself\u001b[39m\u001b[38;5;241m.\u001b[39mget_tag(\u001b[38;5;124m\"\u001b[39m\u001b[38;5;124mX-y-must-have-same-index\u001b[39m\u001b[38;5;124m\"\u001b[39m):\n\u001b[1;32m-> 1206\u001b[0m         \u001b[43mcheck_equal_time_index\u001b[49m\u001b[43m(\u001b[49m\u001b[43mX\u001b[49m\u001b[43m,\u001b[49m\u001b[43m \u001b[49m\u001b[43my\u001b[49m\u001b[43m,\u001b[49m\u001b[43m \u001b[49m\u001b[43mmode\u001b[49m\u001b[38;5;241;43m=\u001b[39;49m\u001b[38;5;124;43m\"\u001b[39;49m\u001b[38;5;124;43mcontains\u001b[39;49m\u001b[38;5;124;43m\"\u001b[39;49m\u001b[43m)\u001b[49m\n\u001b[0;32m   1208\u001b[0m     \u001b[38;5;28;01mif\u001b[39;00m y_scitype \u001b[38;5;241m!=\u001b[39m X_scitype:\n\u001b[0;32m   1209\u001b[0m         \u001b[38;5;28;01mraise\u001b[39;00m \u001b[38;5;167;01mTypeError\u001b[39;00m(\u001b[38;5;124m\"\u001b[39m\u001b[38;5;124mX and y must have the same scitype\u001b[39m\u001b[38;5;124m\"\u001b[39m)\n",
      "File \u001b[1;32m~\\.conda\\envs\\sktime-pydata\\lib\\site-packages\\sktime\\utils\\validation\\series.py:290\u001b[0m, in \u001b[0;36mcheck_equal_time_index\u001b[1;34m(mode, *ys)\u001b[0m\n\u001b[0;32m    287\u001b[0m     \u001b[38;5;28;01mraise\u001b[39;00m \u001b[38;5;167;01mValueError\u001b[39;00m(\u001b[38;5;124m'\u001b[39m\u001b[38;5;124mmode must be \u001b[39m\u001b[38;5;124m\"\u001b[39m\u001b[38;5;124mequal\u001b[39m\u001b[38;5;124m\"\u001b[39m\u001b[38;5;124m or \u001b[39m\u001b[38;5;124m\"\u001b[39m\u001b[38;5;124mcontains\u001b[39m\u001b[38;5;124m\"\u001b[39m\u001b[38;5;124m'\u001b[39m)\n\u001b[0;32m    289\u001b[0m \u001b[38;5;28;01mif\u001b[39;00m failure_cond:\n\u001b[1;32m--> 290\u001b[0m     \u001b[38;5;28;01mraise\u001b[39;00m \u001b[38;5;167;01mValueError\u001b[39;00m(msg)\n",
      "\u001b[1;31mValueError\u001b[0m: (time) indices of series 0 are not contained in index of series 0, extra indices are: MultiIndex([(        5, '__total', '2013-01-01'),\n            (        5, '__total', '2013-01-02'),\n            (        5, '__total', '2013-01-03'),\n            (        5, '__total', '2013-01-04'),\n            (        5, '__total', '2013-01-05'),\n            (        5, '__total', '2013-01-06'),\n            (        5, '__total', '2013-01-07'),\n            (        5, '__total', '2013-01-08'),\n            (        5, '__total', '2013-01-09'),\n            (        5, '__total', '2013-01-10'),\n            ...\n            ('__total', '__total', '2016-09-21'),\n            ('__total', '__total', '2016-09-22'),\n            ('__total', '__total', '2016-09-23'),\n            ('__total', '__total', '2016-09-24'),\n            ('__total', '__total', '2016-09-25'),\n            ('__total', '__total', '2016-09-26'),\n            ('__total', '__total', '2016-09-27'),\n            ('__total', '__total', '2016-09-28'),\n            ('__total', '__total', '2016-09-29'),\n            ('__total', '__total', '2016-09-30')],\n           names=['store', 'item', 'date'], length=4107)"
     ]
    }
   ],
   "source": [
    "# Version 1B: Local Vectorized (Hierarchical) Forecasts (with reconciliation)\n",
    "# Does not work with X_train (is it because of empty X dataframe?)\n",
    "# If 1A works with X_train, shouldn't 1B also work?\n",
    "_ = pipe_hier_recon.fit(y_train_hier, X_train_hier, fh=FH)\n",
    "\n",
    "# This works \n",
    "# _ = pipe_hier_recon.fit(y_train_hier, fh=FH)"
   ]
  }
 ],
 "metadata": {
  "kernelspec": {
   "display_name": "sktime-pydata",
   "language": "python",
   "name": "sktime-pydata"
  },
  "language_info": {
   "codemirror_mode": {
    "name": "ipython",
    "version": 3
   },
   "file_extension": ".py",
   "mimetype": "text/x-python",
   "name": "python",
   "nbconvert_exporter": "python",
   "pygments_lexer": "ipython3",
   "version": "3.9.12"
  }
 },
 "nbformat": 4,
 "nbformat_minor": 5
}
